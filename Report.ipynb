{
 "cells": [
  {
   "cell_type": "markdown",
   "id": "8f9fad16",
   "metadata": {},
   "source": [
    "### Imports "
   ]
  },
  {
   "cell_type": "code",
   "execution_count": 1,
   "id": "d22b8550",
   "metadata": {},
   "outputs": [
    {
     "name": "stderr",
     "output_type": "stream",
     "text": [
      "C:\\lightning-gym\\venv\\lib\\site-packages\\numpy\\_distributor_init.py:30: UserWarning: loaded more than 1 DLL from .libs:\n",
      "C:\\lightning-gym\\venv\\lib\\site-packages\\numpy\\.libs\\libopenblas.EL2C6PLE4ZYW3ECEVIV3OXXGRN2NRFM2.gfortran-win_amd64.dll\n",
      "C:\\lightning-gym\\venv\\lib\\site-packages\\numpy\\.libs\\libopenblas.XWYDX2IKJW2NMTWSFYNGFUWKQU3LYTCZ.gfortran-win_amd64.dll\n",
      "  warnings.warn(\"loaded more than 1 DLL from .libs:\"\n",
      "Using backend: pytorch\n"
     ]
    }
   ],
   "source": [
    "from budget import gen_budget_data\n",
    "from monthly import gen_monthly_data\n",
    "import configparser\n",
    "from train import print_config,train_agent\n",
    "from lightning_gym.utils import random_seed\n",
    "import warnings\n",
    "warnings.filterwarnings(\"ignore\")\n"
   ]
  },
  {
   "cell_type": "markdown",
   "id": "6f654711",
   "metadata": {},
   "source": [
    "### Train Agent"
   ]
  },
  {
   "cell_type": "code",
   "execution_count": 3,
   "id": "711570c2",
   "metadata": {
    "scrolled": true
   },
   "outputs": [
    {
     "name": "stdout",
     "output_type": "stream",
     "text": [
      "training\n",
      "\tepisodes = 100\n",
      "\tverbose = False\n",
      "env\n",
      "\tbudget = 10\n",
      "\tnode_id = \n",
      "\trepeat = False\n",
      "\tcutoff = 20\n",
      "\tgraph_type = scale_free\n",
      "\tn = 128\n",
      "\tseed = 5785\n",
      "agent\n",
      "\tload_model = False\n",
      "\tmodel_file = mbi_net.pt\n",
      "\tcuda = False\n",
      "\tin_features = 1\n",
      "\thid_features = 128\n",
      "\tout_features = 128\n",
      "\tgamma = 0.99\n",
      "\tlearning_rate = 1e-2\n",
      "\tlayers = 2\n"
     ]
    },
    {
     "data": {
      "image/png": "[encoded data removed]",
      "text/plain": [
       "<Figure size 432x288 with 1 Axes>"
      ]
     },
     "metadata": {
      "needs_background": "light"
     },
     "output_type": "display_data"
    }
   ],
   "source": [
    "config = configparser.ConfigParser()\n",
    "config_loc = \"./configs/train_scale_free.conf\"\n",
    "config.read(config_loc)\n",
    "# config[\"training\"][\"verbose\"] = \"True\"\n",
    "print_config(config)\n",
    "seed = config[\"env\"].getint(\"seed\", fallback=None)\n",
    "if seed:\n",
    "    random_seed(seed)\n",
    "# train_upwards(config)\n",
    "log = train_agent(config, pog=True)\n",
    "# before_after()\n",
    "log.plot_reward(reward_type=\"pog\")\n"
   ]
  },
  {
   "cell_type": "markdown",
   "id": "eee03881",
   "metadata": {},
   "source": [
    "### Generate monthly comparison"
   ]
  },
  {
   "cell_type": "code",
   "execution_count": 2,
   "id": "46feaee9",
   "metadata": {},
   "outputs": [
    {
     "name": "stdout",
     "output_type": "stream",
     "text": [
      "training\n",
      "\tepisodes = 0\n",
      "\tverbose = False\n",
      "env\n",
      "\tbudget = 20\n",
      "\tnode_id = \n",
      "\trepeat = True\n",
      "\tcutoff = 20\n",
      "\tgraph_type = snapshot\n",
      "\tdown_sample = False\n",
      "\tfilename = 2-26-22.json\n",
      "\tseed = 5785\n",
      "agent\n",
      "\tload_model = True\n",
      "\tmodel_file = mbi_net.pt\n",
      "\tcuda = False\n",
      "\tin_features = 1\n",
      "\thid_features = 128\n",
      "\tout_features = 128\n",
      "\tgamma = 0.99\n",
      "\tlayers = 2\n",
      "edge_filters\n",
      "\tminimum_capacity = 0\n",
      "\tmaximum_capacity = 1_000_000_000_000\n",
      "graph_filters\n",
      "\tremove_bridges = True\n",
      "\tcombine_multiedges = True\n",
      "training\n",
      "\tepisodes = 0\n",
      "\tverbose = False\n",
      "env\n",
      "\tbudget = 20\n",
      "\tnode_id = \n",
      "\trepeat = True\n",
      "\tcutoff = 20\n",
      "\tgraph_type = snapshot\n",
      "\tdown_sample = False\n",
      "\tfilename = snapshots/feb.json\n",
      "\tseed = 5785\n",
      "agent\n",
      "\tload_model = True\n",
      "\tmodel_file = mbi_net.pt\n",
      "\tcuda = False\n",
      "\tin_features = 1\n",
      "\thid_features = 128\n",
      "\tout_features = 128\n",
      "\tgamma = 0.99\n",
      "\tlayers = 2\n",
      "edge_filters\n",
      "\tminimum_capacity = 0\n",
      "\tmaximum_capacity = 1_000_000_000_000\n",
      "graph_filters\n",
      "\tremove_bridges = True\n",
      "\tcombine_multiedges = True\n"
     ]
    },
    {
     "ename": "TypeError",
     "evalue": "unhashable type: 'dict'",
     "output_type": "error",
     "traceback": [
      "\u001b[1;31m---------------------------------------------------------------------------\u001b[0m",
      "\u001b[1;31mTypeError\u001b[0m                                 Traceback (most recent call last)",
      "Input \u001b[1;32mIn [2]\u001b[0m, in \u001b[0;36m<cell line: 8>\u001b[1;34m()\u001b[0m\n\u001b[0;32m      6\u001b[0m \u001b[38;5;28;01mif\u001b[39;00m seed:\n\u001b[0;32m      7\u001b[0m     random_seed(seed)\n\u001b[1;32m----> 8\u001b[0m \u001b[43mgen_monthly_data\u001b[49m\u001b[43m(\u001b[49m\u001b[43mconfig\u001b[49m\u001b[43m)\u001b[49m\n",
      "File \u001b[1;32mC:\\lightning-gym\\monthly.py:45\u001b[0m, in \u001b[0;36mgen_monthly_data\u001b[1;34m(config)\u001b[0m\n\u001b[0;32m     41\u001b[0m topk_degree \u001b[38;5;241m=\u001b[39m TopDegreeAgent(env)\n\u001b[0;32m     42\u001b[0m \u001b[38;5;66;03m# greed = GreedyAgent(env)\u001b[39;00m\n\u001b[0;32m     43\u001b[0m \u001b[38;5;66;03m# trained = TrainedGreedyAgent(env, config)\u001b[39;00m\n\u001b[1;32m---> 45\u001b[0m agent_results\u001b[38;5;241m.\u001b[39mappend(\u001b[43magent\u001b[49m\u001b[38;5;241;43m.\u001b[39;49m\u001b[43mtest\u001b[49m\u001b[43m(\u001b[49m\u001b[43m)\u001b[49m)\n\u001b[0;32m     46\u001b[0m random_results\u001b[38;5;241m.\u001b[39mappend(rando\u001b[38;5;241m.\u001b[39mrun_episode())\n\u001b[0;32m     47\u001b[0m between_results\u001b[38;5;241m.\u001b[39mappend(topk_btwn\u001b[38;5;241m.\u001b[39mrun_episode())\n",
      "File \u001b[1;32mC:\\lightning-gym\\ActorCritic.py:177\u001b[0m, in \u001b[0;36mDiscreteActorCritic.test\u001b[1;34m(self)\u001b[0m\n\u001b[0;32m    175\u001b[0m \u001b[38;5;28;01mdef\u001b[39;00m \u001b[38;5;21mtest\u001b[39m(\u001b[38;5;28mself\u001b[39m):\n\u001b[0;32m    176\u001b[0m     \u001b[38;5;28mself\u001b[39m\u001b[38;5;241m.\u001b[39m_no_calc \u001b[38;5;241m=\u001b[39m \u001b[38;5;28;01mTrue\u001b[39;00m\n\u001b[1;32m--> 177\u001b[0m     [_, _, _] \u001b[38;5;241m=\u001b[39m \u001b[38;5;28;43mself\u001b[39;49m\u001b[38;5;241;43m.\u001b[39;49m\u001b[43mrun_episode\u001b[49m\u001b[43m(\u001b[49m\u001b[43m)\u001b[49m\n\u001b[0;32m    178\u001b[0m     \u001b[38;5;28mself\u001b[39m\u001b[38;5;241m.\u001b[39mproblem\u001b[38;5;241m.\u001b[39mget_reward()\n\u001b[0;32m    179\u001b[0m     \u001b[38;5;28;01mreturn\u001b[39;00m \u001b[38;5;28mself\u001b[39m\u001b[38;5;241m.\u001b[39mproblem\u001b[38;5;241m.\u001b[39mbtwn_cent\n",
      "File \u001b[1;32mC:\\lightning-gym\\ActorCritic.py:51\u001b[0m, in \u001b[0;36mDiscreteActorCritic.run_episode\u001b[1;34m(self)\u001b[0m\n\u001b[0;32m     49\u001b[0m \u001b[38;5;28;01mdef\u001b[39;00m \u001b[38;5;21mrun_episode\u001b[39m(\u001b[38;5;28mself\u001b[39m):  \u001b[38;5;66;03m# similar to epochs\u001b[39;00m\n\u001b[0;32m     50\u001b[0m     done \u001b[38;5;241m=\u001b[39m \u001b[38;5;28;01mFalse\u001b[39;00m\n\u001b[1;32m---> 51\u001b[0m     G \u001b[38;5;241m=\u001b[39m \u001b[38;5;28;43mself\u001b[39;49m\u001b[38;5;241;43m.\u001b[39;49m\u001b[43mproblem\u001b[49m\u001b[38;5;241;43m.\u001b[39;49m\u001b[43mreset\u001b[49m\u001b[43m(\u001b[49m\u001b[43m)\u001b[49m  \u001b[38;5;66;03m# We get our initial state by resetting\u001b[39;00m\n\u001b[0;32m     52\u001b[0m     \u001b[38;5;66;03m# Add our illegal actions which are ones in the edge vector\u001b[39;00m\n\u001b[0;32m     53\u001b[0m     illegal_actions \u001b[38;5;241m=\u001b[39m \u001b[38;5;28mself\u001b[39m\u001b[38;5;241m.\u001b[39mproblem\u001b[38;5;241m.\u001b[39mget_illegal_actions()  \u001b[38;5;66;03m# getting neighbors\u001b[39;00m\n",
      "File \u001b[1;32mC:\\lightning-gym\\lightning_gym\\envs\\lightning_network.py:208\u001b[0m, in \u001b[0;36mNetworkEnvironment.reset\u001b[1;34m(self)\u001b[0m\n\u001b[0;32m    206\u001b[0m     \u001b[38;5;28mself\u001b[39m\u001b[38;5;241m.\u001b[39mnx_graph \u001b[38;5;241m=\u001b[39m deepcopy(\u001b[38;5;28mself\u001b[39m\u001b[38;5;241m.\u001b[39mbase_graph)  \u001b[38;5;66;03m# reload\u001b[39;00m\n\u001b[0;32m    207\u001b[0m \u001b[38;5;28;01melse\u001b[39;00m:\n\u001b[1;32m--> 208\u001b[0m     \u001b[38;5;28;43mself\u001b[39;49m\u001b[38;5;241;43m.\u001b[39;49m\u001b[43mload_graph\u001b[49m\u001b[43m(\u001b[49m\u001b[43m)\u001b[49m\n\u001b[0;32m    210\u001b[0m \u001b[38;5;66;03m# create dgl graph and igraph from nx_graph\u001b[39;00m\n\u001b[0;32m    211\u001b[0m \u001b[38;5;28mself\u001b[39m\u001b[38;5;241m.\u001b[39mig_g \u001b[38;5;241m=\u001b[39m nx_to_ig(\u001b[38;5;28mself\u001b[39m\u001b[38;5;241m.\u001b[39mnx_graph)\n",
      "File \u001b[1;32mC:\\lightning-gym\\lightning_gym\\envs\\lightning_network.py:186\u001b[0m, in \u001b[0;36mNetworkEnvironment.load_graph\u001b[1;34m(self)\u001b[0m\n\u001b[0;32m    184\u001b[0m     \u001b[38;5;28mself\u001b[39m\u001b[38;5;241m.\u001b[39mnx_graph \u001b[38;5;241m=\u001b[39m deepcopy(\u001b[38;5;28mself\u001b[39m\u001b[38;5;241m.\u001b[39mbase_graph)\n\u001b[0;32m    185\u001b[0m \u001b[38;5;28;01melif\u001b[39;00m \u001b[38;5;28mself\u001b[39m\u001b[38;5;241m.\u001b[39mfilename:\n\u001b[1;32m--> 186\u001b[0m     \u001b[38;5;28mself\u001b[39m\u001b[38;5;241m.\u001b[39mnx_graph \u001b[38;5;241m=\u001b[39m \u001b[43mget_snapshot\u001b[49m\u001b[43m(\u001b[49m\u001b[38;5;28;43mself\u001b[39;49m\u001b[38;5;241;43m.\u001b[39;49m\u001b[43mfilename\u001b[49m\u001b[43m)\u001b[49m\n\u001b[0;32m    188\u001b[0m \u001b[38;5;28;01mif\u001b[39;00m \u001b[38;5;28mself\u001b[39m\u001b[38;5;241m.\u001b[39mnode_id \u001b[38;5;129;01mnot\u001b[39;00m \u001b[38;5;129;01min\u001b[39;00m \u001b[38;5;28mself\u001b[39m\u001b[38;5;241m.\u001b[39mdefault_node_ids:\n\u001b[0;32m    189\u001b[0m     \u001b[38;5;28mself\u001b[39m\u001b[38;5;241m.\u001b[39mindex_to_node \u001b[38;5;241m=\u001b[39m bidict(\u001b[38;5;28menumerate\u001b[39m(\u001b[38;5;28msorted\u001b[39m(\u001b[38;5;28mself\u001b[39m\u001b[38;5;241m.\u001b[39mnx_graph\u001b[38;5;241m.\u001b[39mnodes())))\n",
      "File \u001b[1;32mC:\\lightning-gym\\lightning_gym\\graph_utils.py:45\u001b[0m, in \u001b[0;36mget_snapshot\u001b[1;34m(filename)\u001b[0m\n\u001b[0;32m     43\u001b[0m nodes, edges \u001b[38;5;241m=\u001b[39m load_json(path\u001b[38;5;241m.\u001b[39mjoin(getcwd(), filename))\n\u001b[0;32m     44\u001b[0m \u001b[38;5;66;03m# Create nx_graph\u001b[39;00m\n\u001b[1;32m---> 45\u001b[0m \u001b[38;5;28;01mreturn\u001b[39;00m \u001b[43mmake_nx_graph\u001b[49m\u001b[43m(\u001b[49m\u001b[43mnodes\u001b[49m\u001b[43m,\u001b[49m\u001b[43m \u001b[49m\u001b[43medges\u001b[49m\u001b[43m)\u001b[49m\n",
      "File \u001b[1;32mC:\\lightning-gym\\lightning_gym\\graph_utils.py:20\u001b[0m, in \u001b[0;36mmake_nx_graph\u001b[1;34m(nodes, edges)\u001b[0m\n\u001b[0;32m     18\u001b[0m nx_graph \u001b[38;5;241m=\u001b[39m nx\u001b[38;5;241m.\u001b[39mDiGraph()\n\u001b[0;32m     19\u001b[0m \u001b[38;5;28;01mfor\u001b[39;00m node \u001b[38;5;129;01min\u001b[39;00m nodes:\n\u001b[1;32m---> 20\u001b[0m     \u001b[43mnx_graph\u001b[49m\u001b[38;5;241;43m.\u001b[39;49m\u001b[43madd_node\u001b[49m\u001b[43m(\u001b[49m\u001b[43mnode\u001b[49m\u001b[43m,\u001b[49m\u001b[43m \u001b[49m\u001b[38;5;28;43mid\u001b[39;49m\u001b[38;5;241;43m=\u001b[39;49m\u001b[43mnode\u001b[49m\u001b[43m)\u001b[49m\n\u001b[0;32m     21\u001b[0m nx_graph\u001b[38;5;241m.\u001b[39madd_edges_from(edges)\n\u001b[0;32m     22\u001b[0m \u001b[38;5;28;01mreturn\u001b[39;00m nx_graph\n",
      "File \u001b[1;32mC:\\lightning-gym\\venv\\lib\\site-packages\\networkx\\classes\\digraph.py:418\u001b[0m, in \u001b[0;36mDiGraph.add_node\u001b[1;34m(self, node_for_adding, **attr)\u001b[0m\n\u001b[0;32m    379\u001b[0m \u001b[38;5;28;01mdef\u001b[39;00m \u001b[38;5;21madd_node\u001b[39m(\u001b[38;5;28mself\u001b[39m, node_for_adding, \u001b[38;5;241m*\u001b[39m\u001b[38;5;241m*\u001b[39mattr):\n\u001b[0;32m    380\u001b[0m     \u001b[38;5;124;03m\"\"\"Add a single node `node_for_adding` and update node attributes.\u001b[39;00m\n\u001b[0;32m    381\u001b[0m \n\u001b[0;32m    382\u001b[0m \u001b[38;5;124;03m    Parameters\u001b[39;00m\n\u001b[1;32m   (...)\u001b[0m\n\u001b[0;32m    416\u001b[0m \u001b[38;5;124;03m    doesn't change on mutables.\u001b[39;00m\n\u001b[0;32m    417\u001b[0m \u001b[38;5;124;03m    \"\"\"\u001b[39;00m\n\u001b[1;32m--> 418\u001b[0m     \u001b[38;5;28;01mif\u001b[39;00m \u001b[43mnode_for_adding\u001b[49m\u001b[43m \u001b[49m\u001b[38;5;129;43;01mnot\u001b[39;49;00m\u001b[43m \u001b[49m\u001b[38;5;129;43;01min\u001b[39;49;00m\u001b[43m \u001b[49m\u001b[38;5;28;43mself\u001b[39;49m\u001b[38;5;241;43m.\u001b[39;49m\u001b[43m_succ\u001b[49m:\n\u001b[0;32m    419\u001b[0m         \u001b[38;5;28;01mif\u001b[39;00m node_for_adding \u001b[38;5;129;01mis\u001b[39;00m \u001b[38;5;28;01mNone\u001b[39;00m:\n\u001b[0;32m    420\u001b[0m             \u001b[38;5;28;01mraise\u001b[39;00m \u001b[38;5;167;01mValueError\u001b[39;00m(\u001b[38;5;124m\"\u001b[39m\u001b[38;5;124mNone cannot be a node\u001b[39m\u001b[38;5;124m\"\u001b[39m)\n",
      "\u001b[1;31mTypeError\u001b[0m: unhashable type: 'dict'"
     ]
    }
   ],
   "source": [
    "config = configparser.ConfigParser()\n",
    "config_loc = \"./configs/test_snapshot.conf\"\n",
    "config.read(config_loc)\n",
    "print_config(config)\n",
    "seed = config[\"env\"].getint(\"seed\", fallback=None)\n",
    "if seed:\n",
    "    random_seed(seed)\n",
    "gen_monthly_data(config)\n"
   ]
  },
  {
   "cell_type": "code",
   "execution_count": null,
   "id": "5bd4a81b",
   "metadata": {},
   "outputs": [],
   "source": []
  },
  {
   "cell_type": "markdown",
   "id": "48c2bc14",
   "metadata": {},
   "source": [
    "#### Generate results by budget"
   ]
  },
  {
   "cell_type": "code",
   "execution_count": null,
   "id": "0f7810bc",
   "metadata": {
    "scrolled": false
   },
   "outputs": [],
   "source": [
    "config = configparser.ConfigParser()\n",
    "config_loc = \"configs/test_scale_free.conf\"\n",
    "config.read(config_loc)\n",
    "config[\"env\"][\"repeat\"] = \"True\"\n",
    "# config[\"training\"][\"verbose\"] = \"True\"\n",
    "seed = config[\"env\"].getint(\"seed\", fallback=None)\n",
    "print_config(config)\n",
    "if seed:\n",
    "    random_seed(seed)\n",
    "    print(\"seed set\")\n",
    "gen_budget_data(config)"
   ]
  },
  {
   "cell_type": "code",
   "execution_count": null,
   "id": "8232a416",
   "metadata": {},
   "outputs": [],
   "source": []
  }
 ],
 "metadata": {
  "kernelspec": {
   "display_name": "Python 3 (ipykernel)",
   "language": "python",
   "name": "python3"
  },
  "language_info": {
   "codemirror_mode": {
    "name": "ipython",
    "version": 3
   },
   "file_extension": ".py",
   "mimetype": "text/x-python",
   "name": "python",
   "nbconvert_exporter": "python",
   "pygments_lexer": "ipython3",
   "version": "3.9.7"
  }
 },
 "nbformat": 4,
 "nbformat_minor": 5
}
