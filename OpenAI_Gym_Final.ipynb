{
  "nbformat": 4,
  "nbformat_minor": 0,
  "metadata": {
    "colab": {
      "name": "OpenAI Gym- Final.ipynb",
      "provenance": [],
      "authorship_tag": "ABX9TyOIfVy9EiFJOFd4+vinUk/s",
      "include_colab_link": true
    },
    "kernelspec": {
      "name": "python3",
      "display_name": "Python 3"
    },
    "language_info": {
      "name": "python"
    }
  },
  "cells": [
    {
      "cell_type": "markdown",
      "metadata": {
        "id": "view-in-github",
        "colab_type": "text"
      },
      "source": [
        "<a href=\"https://colab.research.google.com/github/davisv7/lightning-gym/blob/master/OpenAI_Gym_Final.ipynb\" target=\"_parent\"><img src=\"https://colab.research.google.com/assets/colab-badge.svg\" alt=\"Open In Colab\"/></a>"
      ]
    },
    {
      "cell_type": "code",
      "metadata": {
        "id": "UsD9ssdqO5Pn"
      },
      "source": [
        "import random\n",
        "import gym\n",
        "from gym import Env, logger, spaces\n",
        "import numpy as np\n",
        "\n",
        "np.random.seed(0)\n",
        "\n",
        "#Environment Class\n",
        "class NetworkEnvironment(Env):\n",
        "\n",
        "    def __init__(self, n={}, info={}):\n",
        "        #n - number of arms in the bandit\n",
        "        \n",
        "        self.num_bandits = n\n",
        "        self.action_space = spaces.Discrete(self.num_bandits)\n",
        "        self.observation_space = spaces.Discrete(1) # just the reward of the last action\n",
        "        self.observation_space = Box(low=np.array([0]), high=np.array([100]))\n",
        "        self.bandit_success_prob = np.random.uniform(size=self.num_bandits) # Pick some random success probabilities\n",
        "        self.info = info\n",
        "    \n",
        "    def step(self, action):\n",
        "        reward = 0\n",
        "        done = True\n",
        "        result_prob = np.random.random()\n",
        "        if result_prob < self.bandit_success_prob[action]:\n",
        "            reward = 1\n",
        "        else:\n",
        "            reward = 0\n",
        "\n",
        "        info = {}\n",
        "\n",
        "        return [0], reward, done, self.info\n",
        "\n",
        "    def reset(self):\n",
        "        # Get some new bandit success probs\n",
        "        self.bandit_success_prob = np.random.uniform(size=self.num_bandits) # Pick some random success probabilities\n",
        "\n",
        "#render on frame of environment at a time\n",
        "    def render(self, mode='channel'):\n",
        "        print('bandits success prob:')\n",
        "        for i in range(self.num_bandits):\n",
        "            print(\"channel {num} reward prob: {prob}\".format(num=i, prob=self.bandit_success_prob[i]))"
      ],
      "execution_count": null,
      "outputs": []
    },
    {
      "cell_type": "code",
      "metadata": {
        "id": "fdAmZutdVfBO"
      },
      "source": [
        "env = NetworkEnvironment()"
      ],
      "execution_count": null,
      "outputs": []
    }
  ]
}