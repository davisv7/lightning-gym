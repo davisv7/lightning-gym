{
 "cells": [
  {
   "cell_type": "markdown",
   "id": "188c6c7b",
   "metadata": {},
   "source": [
    "### Imports/Definitions"
   ]
  },
  {
   "cell_type": "code",
   "execution_count": 1,
   "id": "e675561b",
   "metadata": {},
   "outputs": [
    {
     "name": "stderr",
     "output_type": "stream",
     "text": [
      "C:\\lightning-gym\\venv\\lib\\site-packages\\numpy\\_distributor_init.py:30: UserWarning: loaded more than 1 DLL from .libs:\n",
      "C:\\lightning-gym\\venv\\lib\\site-packages\\numpy\\.libs\\libopenblas.EL2C6PLE4ZYW3ECEVIV3OXXGRN2NRFM2.gfortran-win_amd64.dll\n",
      "C:\\lightning-gym\\venv\\lib\\site-packages\\numpy\\.libs\\libopenblas.XWYDX2IKJW2NMTWSFYNGFUWKQU3LYTCZ.gfortran-win_amd64.dll\n",
      "  warnings.warn(\"loaded more than 1 DLL from .libs:\"\n",
      "Using backend: pytorch\n"
     ]
    }
   ],
   "source": [
    "from helpers import *\n",
    "from main import create_snapshot_env,random_seed\n",
    "from baselines import TrainedGreedyAgent\n",
    "import configparser"
   ]
  },
  {
   "cell_type": "markdown",
   "id": "6bbab2b3",
   "metadata": {},
   "source": [
    "### Clean the graphs and save them in another directory\n",
    "#### We have to make sure the graph we evaluate with is the same that the baselines used"
   ]
  },
  {
   "cell_type": "code",
   "execution_count": 2,
   "id": "228f4f9c",
   "metadata": {},
   "outputs": [],
   "source": [
    "# load the graph from the snapshots dir \n",
    "# TODO TODO\n",
    "# TODO TODO\n",
    "# save the new graph to the cleaned dir "
   ]
  },
  {
   "cell_type": "markdown",
   "id": "c3e18607",
   "metadata": {},
   "source": [
    "#### Next, load the graphs, and pass the suggested edges"
   ]
  },
  {
   "cell_type": "code",
   "execution_count": 3,
   "id": "ccffadcc",
   "metadata": {},
   "outputs": [],
   "source": [
    "config = configparser.ConfigParser()\n",
    "config_loc = \"./configs/test_snapshot.conf\"\n",
    "config.read(config_loc)\n",
    "seed = config[\"env\"].getint(\"seed\", fallback=None)\n",
    "# print_config(config)\n",
    "if seed:\n",
    "    random_seed(seed)\n",
    "config[\"env\"][\"filename\"] = \"feb.json\"\n",
    "config[\"env\"][\"repeat\"] = \"True\""
   ]
  },
  {
   "cell_type": "code",
   "execution_count": 4,
   "id": "d11ed332",
   "metadata": {},
   "outputs": [
    {
     "name": "stdout",
     "output_type": "stream",
     "text": [
      "(9602, 39898)\n",
      "(2316, 17628)\n",
      "['02004c625d622245606a1ea2c1c69cfb4516b703b47945a3647713c05fe4aaeb1c', '0217890e3aad8d35bc054f43acc00084b25229ecff0ab68debd82883ad65ee8266', '0242a4ae0c5bef18048fbecf995094b74bfb0f7391418d71ed394784373f41e4f3', '0297a77f4d1ccc55d7a10a9b137119b1103d9a9d38a5a97ffa1d0152c818fcdd0a', '02ad6fb8d693dc1e4569bcedefadf5f72a931ae027dc0f0c544b34c1c6f3b9a02b', '0331f80652fb840239df8dc99205792bba2e559a05469915804c08420230e23c7c', '03864ef025fde8fb587d989186ce6a4a186895ee44a926bfc370e2c366597a3f8f', '03abf6f44c355dec0d5aa155bdbdd6e0c8fefe318eff402de65c6eb2e1be55dc3e', '03bb88ccc444534da7b5b64b4f7b15e1eccb18e102db0e400d4b9cfe93763aa26d', '03e691f81f08c56fa876cc4ef5c9e8b727bd682cf35605be25d48607a802526053']\n"
     ]
    }
   ],
   "source": [
    "env, _, (size_before, size_after) = create_snapshot_env(config)\n",
    "agent = TrainedGreedyAgent(env, config, n=1)\n",
    "agent.run_episode()\n",
    "print(agent.problem.get_recommendations())"
   ]
  },
  {
   "cell_type": "code",
   "execution_count": 5,
   "id": "7b292ee3",
   "metadata": {},
   "outputs": [
    {
     "name": "stdout",
     "output_type": "stream",
     "text": [
      "./snapshots/feb.json 9602 39898\n",
      "All edges: 39898\n",
      "All edges without loops: 39898\n"
     ]
    },
    {
     "name": "stderr",
     "output_type": "stream",
     "text": [
      "100%|██████████| 32641/32641 [00:04<00:00, 7727.29it/s]\n"
     ]
    },
    {
     "name": "stdout",
     "output_type": "stream",
     "text": [
      "Merchants json found, delete it to update.\n",
      "Graph and capacities were INITIALIZED\n",
      "Transactions simulated on original graph STARTED..\n",
      "Transactions simulated on original graph DONE\n",
      "Transaction succes rate:\n",
      "False    0.636068\n",
      "True     0.363932\n",
      "Name: success, dtype: float64\n",
      "Export DONE\n",
      "Top 5 earners:\n",
      "                                                         fee  num_trans\n",
      "node                                                                   \n",
      "03864ef025fde8fb587d989186ce6a4a186895ee44a926b...  2153.000        131\n",
      "02ad6fb8d693dc1e4569bcedefadf5f72a931ae027dc0f0...  2040.274         38\n",
      "03abf6f44c355dec0d5aa155bdbdd6e0c8fefe318eff402...  1937.830         49\n",
      "0358327cb80ab2a8db36a5924c62966c7b4a753045600df...  1670.000          2\n",
      "03e691f81f08c56fa876cc4ef5c9e8b727bd682cf35605b...  1394.942        131\n",
      "Top 5 traffic:\n",
      "                                                            fee  num_trans\n",
      "node                                                                      \n",
      "0331f80652fb840239df8dc99205792bba2e559a0546991...  1271.080000        522\n",
      "03bb88ccc444534da7b5b64b4f7b15e1eccb18e102db0e4...   843.450000        477\n",
      "0217890e3aad8d35bc054f43acc00084b25229ecff0ab68...   308.460000        291\n",
      "03c436af41160a355fc1ed230a64f6a64bcbd2ae50f1217...     5.342000        241\n",
      "023d70f2f76d283c6c4e58109ee3a2816eb9d8feb40b23d...    73.666667        220\n",
      "Our Income:\n",
      "0\n"
     ]
    }
   ],
   "source": [
    "node_id=\"it's working\"\n",
    "data_dir = \"./snapshots\"\n",
    "eval_recommendations(f\"{data_dir}/feb.json\", agent.problem.get_recommendations(), node_id)\n"
   ]
  },
  {
   "cell_type": "markdown",
   "id": "851775bc",
   "metadata": {},
   "source": [
    "#### init simulator"
   ]
  },
  {
   "cell_type": "code",
   "execution_count": null,
   "id": "89816510",
   "metadata": {},
   "outputs": [],
   "source": []
  },
  {
   "cell_type": "code",
   "execution_count": null,
   "id": "896049f8",
   "metadata": {},
   "outputs": [],
   "source": []
  },
  {
   "cell_type": "code",
   "execution_count": null,
   "id": "1a6fb783",
   "metadata": {},
   "outputs": [],
   "source": []
  }
 ],
 "metadata": {
  "kernelspec": {
   "display_name": "Python 3 (ipykernel)",
   "language": "python",
   "name": "python3"
  },
  "language_info": {
   "codemirror_mode": {
    "name": "ipython",
    "version": 3
   },
   "file_extension": ".py",
   "mimetype": "text/x-python",
   "name": "python",
   "nbconvert_exporter": "python",
   "pygments_lexer": "ipython3",
   "version": "3.9.7"
  }
 },
 "nbformat": 4,
 "nbformat_minor": 5
}
