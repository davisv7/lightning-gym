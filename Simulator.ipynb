{
 "cells": [
  {
   "cell_type": "markdown",
   "id": "9eeb98d9",
   "metadata": {},
   "source": [
    "### Imports/Definitions"
   ]
  },
  {
   "cell_type": "code",
   "execution_count": 1,
   "id": "26520aaa",
   "metadata": {},
   "outputs": [
    {
     "name": "stderr",
     "output_type": "stream",
     "text": [
      "C:\\lightning-gym\\venv\\lib\\site-packages\\numpy\\_distributor_init.py:30: UserWarning: loaded more than 1 DLL from .libs:\n",
      "C:\\lightning-gym\\venv\\lib\\site-packages\\numpy\\.libs\\libopenblas.EL2C6PLE4ZYW3ECEVIV3OXXGRN2NRFM2.gfortran-win_amd64.dll\n",
      "C:\\lightning-gym\\venv\\lib\\site-packages\\numpy\\.libs\\libopenblas.XWYDX2IKJW2NMTWSFYNGFUWKQU3LYTCZ.gfortran-win_amd64.dll\n",
      "  warnings.warn(\"loaded more than 1 DLL from .libs:\"\n",
      "Using backend: pytorch\n"
     ]
    }
   ],
   "source": [
    "from helpers import *\n",
    "from main import create_snapshot_env,random_seed\n",
    "from baselines import TrainedGreedyAgent\n",
    "import configparser\n",
    "import pandas as pd\n",
    "# pd.set_option('display.max_colwidth', None)"
   ]
  },
  {
   "cell_type": "markdown",
   "id": "916b185d",
   "metadata": {},
   "source": [
    "### Clean the graphs and save them in another directory\n",
    "#### We have to make sure the graph we evaluate with is the same that the baselines used"
   ]
  },
  {
   "cell_type": "code",
   "execution_count": 2,
   "id": "0d22c5a7",
   "metadata": {},
   "outputs": [],
   "source": [
    "# load the graph from the snapshots dir \n",
    "# TODO TODO\n",
    "# TODO TODO\n",
    "# save the new graph to the cleaned dir "
   ]
  },
  {
   "cell_type": "markdown",
   "id": "d2e451f4",
   "metadata": {},
   "source": [
    "#### Next, load the graphs, and pass the suggested edges"
   ]
  },
  {
   "cell_type": "code",
   "execution_count": 3,
   "id": "9ac94ced",
   "metadata": {},
   "outputs": [],
   "source": [
    "config = configparser.ConfigParser()\n",
    "config_loc = \"./configs/test_snapshot.conf\"\n",
    "config.read(config_loc)\n",
    "seed = config[\"env\"].getint(\"seed\", fallback=None)\n",
    "# print_config(config)\n",
    "if seed:\n",
    "    random_seed(seed)\n",
    "config[\"env\"][\"filename\"] = \"feb.json\"\n",
    "config[\"env\"][\"repeat\"] = \"True\""
   ]
  },
  {
   "cell_type": "code",
   "execution_count": 4,
   "id": "3e19406d",
   "metadata": {},
   "outputs": [
    {
     "name": "stdout",
     "output_type": "stream",
     "text": [
      "(9602, 39898)\n",
      "(2316, 17628)\n"
     ]
    },
    {
     "data": {
      "text/plain": [
       "0.3502509871744528"
      ]
     },
     "execution_count": 4,
     "metadata": {},
     "output_type": "execute_result"
    }
   ],
   "source": [
    "env, _, (size_before, size_after) = create_snapshot_env(config)\n",
    "agent = TrainedGreedyAgent(env, config, n=1)\n",
    "agent.run_episode()\n",
    "# print(agent.problem.get_recommendations())"
   ]
  },
  {
   "cell_type": "code",
   "execution_count": 5,
   "id": "43268ce1",
   "metadata": {},
   "outputs": [
    {
     "name": "stdout",
     "output_type": "stream",
     "text": [
      "\n",
      "i.) Load data\n",
      "./snapshots/feb.json 9602 39898\n",
      "All edges: 39898\n",
      "All edges without loops: 39898\n",
      "9602 40398\n",
      "Remove records with missing node policy\n",
      "node1_pub       0.000000\n",
      "node2_pub       0.000000\n",
      "last_update     0.000000\n",
      "capacity        0.000000\n",
      "channel_id      0.000000\n",
      "node1_policy    0.141566\n",
      "node2_policy    0.136739\n",
      "snapshot_id     0.012377\n",
      "dtype: float64\n",
      "7267\n",
      "\n",
      "ii.) Transform undirected graph into directed graph\n"
     ]
    },
    {
     "name": "stderr",
     "output_type": "stream",
     "text": [
      "100%|██████████| 33131/33131 [00:04<00:00, 7460.26it/s]\n"
     ]
    },
    {
     "name": "stdout",
     "output_type": "stream",
     "text": [
      "   snapshot_id                                                src  \\\n",
      "0          0.0  02d97e94cfeedca2a3da47acb400bc6836e671b3cb3fc0...   \n",
      "1          0.0  03fab7f8655169ea77d9691d4bd359e97782cb6177a6f7...   \n",
      "2          0.0  02ad6fb8d693dc1e4569bcedefadf5f72a931ae027dc0f...   \n",
      "3          0.0  03fab7f8655169ea77d9691d4bd359e97782cb6177a6f7...   \n",
      "4          0.0  02ad6fb8d693dc1e4569bcedefadf5f72a931ae027dc0f...   \n",
      "\n",
      "                                                 trg   last_update  \\\n",
      "0  03fab7f8655169ea77d9691d4bd359e97782cb6177a6f7...  1.614432e+09   \n",
      "1  02d97e94cfeedca2a3da47acb400bc6836e671b3cb3fc0...  1.614432e+09   \n",
      "2  03fab7f8655169ea77d9691d4bd359e97782cb6177a6f7...  1.614444e+09   \n",
      "3  02ad6fb8d693dc1e4569bcedefadf5f72a931ae027dc0f...  1.614444e+09   \n",
      "4  03fab7f8655169ea77d9691d4bd359e97782cb6177a6f7...  1.614447e+09   \n",
      "\n",
      "           channel_id  capacity  disabled fee_base_msat fee_rate_milli_msat  \\\n",
      "0  565024731940061184   50000.0      True          1000                   1   \n",
      "1  565024731940061184   50000.0     False          1000                   1   \n",
      "2  565048921200525312   20000.0      True          1000                   1   \n",
      "3  565048921200525312   20000.0     False             0                   1   \n",
      "4  565050020749246465   20000.0      True          1000                   1   \n",
      "\n",
      "  min_htlc  \n",
      "0     1000  \n",
      "1     1000  \n",
      "2     1000  \n",
      "3     1000  \n",
      "4     1000  \n",
      "\n",
      "iii.) Fill missing policy values with most frequent values\n",
      "missing values for columns:\n",
      "snapshot_id            1000\n",
      "src                       0\n",
      "trg                       0\n",
      "last_update               0\n",
      "channel_id                0\n",
      "capacity                  0\n",
      "disabled                  0\n",
      "fee_base_msat             0\n",
      "fee_rate_milli_msat       0\n",
      "min_htlc                  0\n",
      "dtype: int64\n",
      "Merchants json found, delete it to update.\n",
      "Graph and capacities were INITIALIZED\n",
      "Transactions simulated on original graph STARTED..\n",
      "Transactions simulated on original graph DONE\n",
      "Transaction succes rate:\n",
      "False    0.637027\n",
      "True     0.362973\n",
      "Name: success, dtype: float64\n",
      "Export DONE\n",
      "Top 5 earners:\n",
      "                                                         fee  num_trans\n",
      "node                                                                   \n",
      "03abf6f44c355dec0d5aa155bdbdd6e0c8fefe318eff402...  3179.130         66\n",
      "03864ef025fde8fb587d989186ce6a4a186895ee44a926b...  2812.180        156\n",
      "02ad6fb8d693dc1e4569bcedefadf5f72a931ae027dc0f0...  2182.296         57\n",
      "03e691f81f08c56fa876cc4ef5c9e8b727bd682cf35605b...  1567.561        164\n",
      "030c3f19d742ca294a55c00376b3b355c3c90d61c6b6b39...  1421.540         43\n",
      "Top 5 traffic:\n",
      "                                                          fee  num_trans\n",
      "node                                                                    \n",
      "0331f80652fb840239df8dc99205792bba2e559a0546991...   655.0800        570\n",
      "03bb88ccc444534da7b5b64b4f7b15e1eccb18e102db0e4...  1296.2795        479\n",
      "it's working                                         482.3000        455\n",
      "0217890e3aad8d35bc054f43acc00084b25229ecff0ab68...   334.9600        316\n",
      "03c436af41160a355fc1ed230a64f6a64bcbd2ae50f1217...     6.2020        251\n",
      "Our Income:\n",
      "482.3\n"
     ]
    }
   ],
   "source": [
    "node_id=\"it's working\"\n",
    "data_dir = \"./snapshots\"\n",
    "eval_recommendations(f\"{data_dir}/feb.json\", agent.problem.get_recommendations(), node_id)\n"
   ]
  },
  {
   "cell_type": "markdown",
   "id": "818bcd74",
   "metadata": {},
   "source": [
    "#### init simulator"
   ]
  },
  {
   "cell_type": "code",
   "execution_count": null,
   "id": "c98bd2d9",
   "metadata": {},
   "outputs": [],
   "source": []
  },
  {
   "cell_type": "code",
   "execution_count": null,
   "id": "b53cdcab",
   "metadata": {},
   "outputs": [],
   "source": []
  },
  {
   "cell_type": "code",
   "execution_count": null,
   "id": "3a14d5d4",
   "metadata": {},
   "outputs": [],
   "source": []
  }
 ],
 "metadata": {
  "kernelspec": {
   "display_name": "Python 3 (ipykernel)",
   "language": "python",
   "name": "python3"
  },
  "language_info": {
   "codemirror_mode": {
    "name": "ipython",
    "version": 3
   },
   "file_extension": ".py",
   "mimetype": "text/x-python",
   "name": "python",
   "nbconvert_exporter": "python",
   "pygments_lexer": "ipython3",
   "version": "3.9.7"
  }
 },
 "nbformat": 4,
 "nbformat_minor": 5
}
