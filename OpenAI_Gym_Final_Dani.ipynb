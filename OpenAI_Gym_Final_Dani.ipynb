{
  "nbformat": 4,
  "nbformat_minor": 0,
  "metadata": {
    "colab": {
      "name": "OpenAI Gym- Final-Dani.ipynb",
      "provenance": [],
      "authorship_tag": "ABX9TyNjsqusyZJGnt6TJ4vjCOPN",
      "include_colab_link": true
    },
    "kernelspec": {
      "name": "python3",
      "display_name": "Python 3"
    },
    "language_info": {
      "name": "python"
    }
  },
  "cells": [
    {
      "cell_type": "markdown",
      "metadata": {
        "id": "view-in-github",
        "colab_type": "text"
      },
      "source": [
        "<a href=\"https://colab.research.google.com/github/davisv7/lightning-gym/blob/master/OpenAI_Gym_Final_Dani.ipynb\" target=\"_parent\"><img src=\"https://colab.research.google.com/assets/colab-badge.svg\" alt=\"Open In Colab\"/></a>"
      ]
    },
    {
      "cell_type": "markdown",
      "metadata": {
        "id": "HXQy05HErTN9"
      },
      "source": [
        "[Example](https://stackoverflow.com/questions/67455299/how-to-make-an-open-ai-gym-custom-environment-with-different-actions-at-each-sta)"
      ]
    },
    {
      "cell_type": "code",
      "metadata": {
        "id": "UsD9ssdqO5Pn"
      },
      "source": [
        "import random\n",
        "import gym\n",
        "from gym import Env, logger, spaces\n",
        "import numpy as np\n",
        "import json\n",
        "from pathlib import Path\n",
        "from os import getcwd,path,listdir\n",
        "from random import choice\n",
        "\n",
        "np.random.seed(0)\n",
        "\n",
        "def load_json(json_filename):\n",
        "    with open(json_filename, 'r') as json_file:\n",
        "      #Pass json data as dictionary\n",
        "      data = json.load(json_file)\n",
        "      nodes = data['nodes']\n",
        "      edges = data['edges']\n",
        "    return nodes,edges\n",
        "\n",
        "# Environment Class\n",
        "class NetworkEnvironment(Env):\n",
        "\n",
        "    def __init__(self, budget=10):\n",
        "        # budget = number of channels that can add to graph\n",
        "        #finding shortest path(fees)- why iterating through each node to accomodate budget\n",
        "        #iterate though each node and keeps track of state, decreasing budget as go though iteration, once run out of budget= done --> move onto next one\n",
        "        #use gcn to find most connected nodes of betweenus centrality\n",
        "        #figuring out which nodes in network have the most influence\n",
        "        self.budget = budget\n",
        "        self.action_space = Discrete()\n",
        "        self.observation_space = Box(low=np.array([0]), high=np.array([2]))\n",
        "        self.state = []\n",
        "        self.node_id = ()\n",
        "\n",
        "    def step(self, action: int):\n",
        "        self.state[action] = 1\n",
        "\n",
        "        #calculate reward\n",
        "        if self.state[action] == 1:\n",
        "            reward = 1\n",
        "        else:\n",
        "            reward = -1\n",
        "            done = True\n",
        "\n",
        "        #check if done with budget\n",
        "        if self.state[action] < self.budget:\n",
        "          done = True,\n",
        "\n",
        "        else:\n",
        "          done = False\n",
        "        return self.state[action], reward, done\n",
        "\n",
        "    def get_reward():\n",
        "\n",
        "        self.node_id \n",
        "        return < 1\n",
        "\n",
        "    def reset(self):\n",
        "        #gets random file name, loads graphs, returns state\n",
        "        directory = getcwd()\n",
        "        samplegraphdirectory = path.join(directory, 'sample_snapshots')\n",
        "        graphfilenames = listdir(samplegraphdirectory)\n",
        "        randomfilename = choice(graphfilenames)\n",
        "        activeNodes, activeEdges = load_json(path.join(samplegraphdirectory,randomfilename))\n",
        "\n",
        "        # Create graph\n",
        "        G = nx.DiGraph()\n",
        "        G.add_nodes_from(activeNodes)\n",
        "        G.add_edges_from(activeEdges)\n",
        "\n",
        "        graphsize = len(G.nodes())\n",
        "\n",
        "        state = [0 for i in range(graphsize)]\n",
        "\n",
        "        done = False\n",
        "\n",
        "        return state, done\n",
        "###visualize networkx\n",
        "    # G = self.G\n",
        "    # pos = nx.circular_layout(G) \n",
        "    # nx.draw_networkx_nodes(G, pos, node_size=700, nodelist=self.nodes)\n",
        "    # nx.draw_networkx_labels(G, pos, font_size=20, font_family='sans-serif')\n",
        "    # nx.draw_networkx_edges(G, pos, edgelist=self.edges,width=6)\n",
        "\n",
        "    # nx.draw_networkx_nodes(G, pos, node_size=1400, nodelist=[self.state.state], node_color='red')\n",
        "    # nx.draw_networkx_edge_labels(G,pos,edge_labels={('Se','Sn'):'Hi'},font_color='red')\n",
        "\n",
        "    # plt.axis('off')\n",
        "    # plt.show()\n",
        "\n",
        "    # render on frame of environment at a time\n",
        "    def render(self, mode='channel'):\n",
        "        print('bandits success prob:')\n",
        "        for i in range(self.num_bandits):\n",
        "            print(\"channel {num} reward prob: {prob}\".format(num=i, prob=self.bandit_success_prob[i]))"
      ],
      "execution_count": null,
      "outputs": []
    },
    {
      "cell_type": "code",
      "metadata": {
        "id": "fdAmZutdVfBO"
      },
      "source": [
        "#Create new instance of custom environment\n",
        "env = NetworkEnvironment()"
      ],
      "execution_count": null,
      "outputs": []
    }
  ]
}